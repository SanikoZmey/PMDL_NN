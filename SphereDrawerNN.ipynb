{
 "cells": [
  {
   "cell_type": "markdown",
   "metadata": {},
   "source": [
    "### `Importing all necessary modules`"
   ]
  },
  {
   "cell_type": "code",
   "execution_count": 1,
   "metadata": {},
   "outputs": [],
   "source": [
    "import os\n",
    "import numpy as np\n",
    "import pandas as pd\n",
    "from PIL import Image\n",
    "import torch\n",
    "from torch.utils.data import Dataset, DataLoader\n",
    "import torchvision.transforms as T\n",
    "import torchvision.transforms.functional as F\n",
    "import matplotlib.pyplot as plt\n",
    "import cv2"
   ]
  },
  {
   "cell_type": "markdown",
   "metadata": {},
   "source": [
    "### `Creating a dataset class for images`"
   ]
  },
  {
   "cell_type": "code",
   "execution_count": 2,
   "metadata": {},
   "outputs": [],
   "source": [
    "class FluxDataset(Dataset):\n",
    "    def __init__(self, df: pd.DataFrame, img_dir: str, transforms=None):\n",
    "        self.data = df\n",
    "        self.img_dir = img_dir\n",
    "        self.transforms = transforms\n",
    "    \n",
    "    def __len__ (self):\n",
    "        return self.data.shape[0]\n",
    "\n",
    "    def __getitem__(self, index):\n",
    "        # Reading the image and label\n",
    "        image = cv2.imread(self.img_dir + self.data.iloc[index, 0], cv2.IMREAD_GRAYSCALE)\n",
    "        label = torch.tensor(self.data.iloc[index, 1])\n",
    "\n",
    "        # Cropping unnesessary parts of the image\n",
    "        image = image[228:855,64:1856]\n",
    "        \n",
    "        # If any transformations are needed\n",
    "        if self.transforms:\n",
    "            # Then apply them\n",
    "            image = Image.fromarray(image)\n",
    "            image = self.transforms(image)\n",
    "            image = F.adjust_sharpness(image, 4.5)              \n",
    "        return (image, label) "
   ]
  },
  {
   "cell_type": "markdown",
   "metadata": {},
   "source": [
    "### `This code block can be used to divide images from the specified directory on train and test one`\n",
    "    NB: it reads 10 files so it is recommended to have >10 images per each class and name them in the way:\n",
    "     \"[class_number][class_name][in_class_image_number].png\""
   ]
  },
  {
   "cell_type": "code",
   "execution_count": 3,
   "metadata": {},
   "outputs": [],
   "source": [
    "# import shutil\n",
    "\n",
    "# png_dir = './dataset/'\n",
    " \n",
    "# get_files = os.listdir(png_dir)\n",
    "# get_files.pop()\n",
    "# get_files.pop()\n",
    "\n",
    "# it = 0\n",
    "# while(10*it < len(get_files)):\n",
    "#     choice = np.random.choice(range(0, 10), 3, replace=False)\n",
    "#     for num in range(0, 10):\n",
    "#         if(num in choice):\n",
    "#             shutil.move(png_dir + get_files[10*it + num], test_dir)\n",
    "#         else:\n",
    "#             shutil.move(png_dir + get_files[10*it + num], train_dir)\n",
    "#     it += 1"
   ]
  },
  {
   "cell_type": "markdown",
   "metadata": {},
   "source": [
    "### `Setting pathes to train and test directories`"
   ]
  },
  {
   "cell_type": "code",
   "execution_count": 3,
   "metadata": {},
   "outputs": [],
   "source": [
    "train_dir = \"./dataset/train/\"\n",
    "test_dir = \"./dataset/test/\""
   ]
  },
  {
   "cell_type": "markdown",
   "metadata": {},
   "source": [
    "### `Reading images and creating datasets and dataloaders`"
   ]
  },
  {
   "cell_type": "code",
   "execution_count": 4,
   "metadata": {},
   "outputs": [],
   "source": [
    "import re\n",
    "\n",
    "# Getting all names of the files in the directories\n",
    "train_image_names = os.listdir(train_dir)\n",
    "test_image_names = os.listdir(test_dir)\n",
    "\n",
    "# Creating the dataframes to store the data about the image names and labels\n",
    "train_df, test_df = pd.DataFrame(columns=['i_name', 'label']), pd.DataFrame(columns=['i_name', 'label'])\n",
    "\n",
    "# Iterate over all names and add each of them in appropriate dataframe\n",
    "for image_name in train_image_names:\n",
    "    num = int(re.search('\\d+', image_name).group()) - 1\n",
    "    row = np.array([image_name, num]).reshape(-1, 2)\n",
    "    train_df = pd.concat([train_df, pd.DataFrame(row, columns=['i_name', 'label'])], ignore_index=True)\n",
    "\n",
    "for image_name in test_image_names:\n",
    "    num = int(re.search('\\d+', image_name).group()) - 1\n",
    "    row = np.array([image_name, num]).reshape(-1, 2)\n",
    "    test_df = pd.concat([test_df, pd.DataFrame(row, columns=['i_name', 'label'])], ignore_index=True)\n",
    "\n",
    "# Some data conversions\n",
    "train_df['label'] = train_df['label'].astype('int64')\n",
    "test_df['label'] = test_df['label'].astype('int64')\n",
    "\n",
    "# Some transformations over the images for improving the quality of the predictions of the CNN\n",
    "train_transforms = T.Compose([\n",
    "    T.Resize(size=(200, 200)),\n",
    "    T.ToTensor(),\n",
    "])\n",
    "\n",
    "test_transforms = T.Compose([\n",
    "    T.Resize(size=(200, 200)),\n",
    "    T.ToTensor(),\n",
    "])\n",
    "\n",
    "train_batch_size, test_batch_size = 16, 16\n",
    "\n",
    "train_dataset = FluxDataset(train_df, train_dir, train_transforms)\n",
    "test_dataset = FluxDataset(test_df, test_dir, test_transforms)\n",
    "\n",
    "train_loader = DataLoader(train_dataset, batch_size=train_batch_size, shuffle=True)\n",
    "test_loader = DataLoader(test_dataset, batch_size=test_batch_size, shuffle=True)"
   ]
  },
  {
   "cell_type": "markdown",
   "metadata": {},
   "source": [
    "### `Print random sample of images from the test loader`"
   ]
  },
  {
   "cell_type": "code",
   "execution_count": 5,
   "metadata": {},
   "outputs": [
    {
     "name": "stdout",
     "output_type": "stream",
     "text": [
      "16 8 22 15 "
     ]
    },
    {
     "data": {
      "image/png": "[encoded data removed]",
      "text/plain": [
       "<Figure size 2000x2000 with 4 Axes>"
      ]
     },
     "metadata": {},
     "output_type": "display_data"
    }
   ],
   "source": [
    "images, _ = next(iter(test_loader))\n",
    "\n",
    "fig = plt.figure(figsize=(20, 20))\n",
    "img = None\n",
    "\n",
    "for i in range(4):\n",
    "    if images[i].shape[0] == 1:\n",
    "        img = images[i][0, :, :]\n",
    "    fig.add_subplot(1, 4, i + 1)\n",
    "    plt.imshow(img.numpy(), cmap=\"gray\")\n",
    "    print(_[i].item(), end=\" \")"
   ]
  },
  {
   "cell_type": "markdown",
   "metadata": {},
   "source": [
    "### `Creating functions for training and validating the model`"
   ]
  },
  {
   "cell_type": "code",
   "execution_count": 6,
   "metadata": {},
   "outputs": [],
   "source": [
    "from tqdm import tqdm\n",
    "import torch.nn as nn\n",
    "\n",
    "def train(model, device, train_loader, criterion, score, optimizer, epoch):\n",
    "    epoch_loss = 0\n",
    "    epoch_f1_score = 0 \n",
    "    iteration = 0\n",
    "    \n",
    "    model.train()\n",
    "\n",
    "    # We will iterate over the train dataloader and in addition show the training progress\n",
    "    bar = tqdm(train_loader)\n",
    "    for data, target in bar:\n",
    "        # Transfer data and label to the device\n",
    "        data, target = data.to(device), target.to(device)\n",
    "        \n",
    "        # Forward pass\n",
    "        output = model(data)\n",
    "\n",
    "        loss = criterion(output, target)\n",
    "        \n",
    "        # Backward pass\n",
    "        optimizer.zero_grad()\n",
    "        loss.backward()\n",
    "        optimizer.step()\n",
    "\n",
    "        # Increase the counter of epochs and print the average loss over the epoch \n",
    "        epoch_loss += loss.item()\n",
    "        epoch_f1_score += score(output, target).item()\n",
    "        iteration += 1\n",
    "        bar.set_postfix({\n",
    "            \"Epoch\": epoch,\n",
    "            \"Avg. loss\": format(epoch_loss/iteration, '.6f'),\n",
    "            \"F1 score\": format(epoch_f1_score/iteration, '.6f')\n",
    "        })\n",
    "\n",
    "    return epoch_loss/iteration\n",
    "\n",
    "# This is the function for testing our model\n",
    "def test(model, device, test_loader, criterion, score):\n",
    "    test_loss = 0\n",
    "    test_f1_score = 0\n",
    "    correct = 0\n",
    "\n",
    "    model.eval()\n",
    "\n",
    "    with torch.no_grad():\n",
    "        # Here we will iterate over the test dataloader\n",
    "        for data, target in test_loader:\n",
    "            # Transfer the data and label on the device\n",
    "            data, target = data.to(device), target.to(device)\n",
    "            # Get the prediction\n",
    "            output = model(data)\n",
    "            # Sum up batch loss\n",
    "            test_loss += criterion(output, target).item()\n",
    "            test_f1_score += score(output, target).item()\n",
    "            # Get the index of the max log-probability \n",
    "            pred = output.argmax(dim=1, keepdim=True)\n",
    "            correct += pred.eq(target.view_as(pred)).sum().item()\n",
    "    # Calculate accuracy and return it with the test loss\n",
    "    acc = 100. * correct / len(test_loader.dataset)\n",
    "    # print(\"F1 score: \", format(test_f1_score/len(test_loader.dataset), '.6f'))\n",
    "    return test_loss, acc"
   ]
  },
  {
   "cell_type": "markdown",
   "metadata": {},
   "source": [
    "### `Setting the device to train and validate the model on`"
   ]
  },
  {
   "cell_type": "code",
   "execution_count": 7,
   "metadata": {},
   "outputs": [
    {
     "name": "stdout",
     "output_type": "stream",
     "text": [
      "Device: cuda\n"
     ]
    }
   ],
   "source": [
    "use_cuda = torch.cuda.is_available()\n",
    "device = torch.device(\"cuda\" if use_cuda else \"cpu\")\n",
    "print(f'Device: {device}')"
   ]
  },
  {
   "cell_type": "markdown",
   "metadata": {},
   "source": [
    "### `Choosing the model architecture`"
   ]
  },
  {
   "cell_type": "code",
   "execution_count": 18,
   "metadata": {},
   "outputs": [],
   "source": [
    "from model_arch import ResNet, Alex_like\n",
    "\n",
    "# model = ResNet(num_classes=26).to(device)\n",
    "model = Alex_like(num_classes=26).to(device)\n",
    "# print(model)"
   ]
  },
  {
   "cell_type": "markdown",
   "metadata": {},
   "source": [
    "### `Starting the training process`"
   ]
  },
  {
   "cell_type": "code",
   "execution_count": 19,
   "metadata": {},
   "outputs": [
    {
     "name": "stderr",
     "output_type": "stream",
     "text": [
      "  0%|          | 0/23 [00:00<?, ?it/s]"
     ]
    },
    {
     "name": "stderr",
     "output_type": "stream",
     "text": [
      "100%|██████████| 23/23 [00:09<00:00,  2.38it/s, Epoch=1, Avg. loss=3.155434, F1 score=0.071558]\n"
     ]
    },
    {
     "name": "stdout",
     "output_type": "stream",
     "text": [
      "Best acc: 3.8461538461538463\n"
     ]
    },
    {
     "name": "stderr",
     "output_type": "stream",
     "text": [
      "100%|██████████| 23/23 [00:09<00:00,  2.37it/s, Epoch=2, Avg. loss=2.583529, F1 score=0.180254]\n"
     ]
    },
    {
     "name": "stdout",
     "output_type": "stream",
     "text": [
      "Best acc: 12.179487179487179\n"
     ]
    },
    {
     "name": "stderr",
     "output_type": "stream",
     "text": [
      "100%|██████████| 23/23 [00:09<00:00,  2.43it/s, Epoch=3, Avg. loss=2.116543, F1 score=0.299819]\n"
     ]
    },
    {
     "name": "stdout",
     "output_type": "stream",
     "text": [
      "Best acc: 45.51282051282051\n"
     ]
    },
    {
     "name": "stderr",
     "output_type": "stream",
     "text": [
      "100%|██████████| 23/23 [00:09<00:00,  2.40it/s, Epoch=4, Avg. loss=1.778633, F1 score=0.373188]\n",
      "100%|██████████| 23/23 [00:09<00:00,  2.39it/s, Epoch=5, Avg. loss=1.549450, F1 score=0.425725]\n"
     ]
    },
    {
     "name": "stdout",
     "output_type": "stream",
     "text": [
      "Best acc: 58.333333333333336\n"
     ]
    },
    {
     "name": "stderr",
     "output_type": "stream",
     "text": [
      "100%|██████████| 23/23 [00:09<00:00,  2.40it/s, Epoch=6, Avg. loss=1.251869, F1 score=0.541667]\n",
      "100%|██████████| 23/23 [00:10<00:00,  2.29it/s, Epoch=7, Avg. loss=1.010625, F1 score=0.629529]\n"
     ]
    },
    {
     "name": "stdout",
     "output_type": "stream",
     "text": [
      "Best acc: 66.02564102564102\n"
     ]
    },
    {
     "name": "stderr",
     "output_type": "stream",
     "text": [
      "100%|██████████| 23/23 [00:09<00:00,  2.40it/s, Epoch=8, Avg. loss=0.826849, F1 score=0.683877]\n"
     ]
    },
    {
     "name": "stdout",
     "output_type": "stream",
     "text": [
      "Best acc: 72.43589743589743\n"
     ]
    },
    {
     "name": "stderr",
     "output_type": "stream",
     "text": [
      "100%|██████████| 23/23 [00:09<00:00,  2.40it/s, Epoch=9, Avg. loss=0.720991, F1 score=0.728261]\n"
     ]
    },
    {
     "name": "stdout",
     "output_type": "stream",
     "text": [
      "Best acc: 78.84615384615384\n"
     ]
    },
    {
     "name": "stderr",
     "output_type": "stream",
     "text": [
      "100%|██████████| 23/23 [00:10<00:00,  2.21it/s, Epoch=10, Avg. loss=0.575912, F1 score=0.822464]\n"
     ]
    },
    {
     "name": "stdout",
     "output_type": "stream",
     "text": [
      "Best acc: 79.48717948717949\n"
     ]
    },
    {
     "name": "stderr",
     "output_type": "stream",
     "text": [
      "100%|██████████| 23/23 [00:10<00:00,  2.26it/s, Epoch=11, Avg. loss=0.510589, F1 score=0.817935]\n"
     ]
    },
    {
     "name": "stdout",
     "output_type": "stream",
     "text": [
      "Best acc: 87.17948717948718\n"
     ]
    },
    {
     "name": "stderr",
     "output_type": "stream",
     "text": [
      "100%|██████████| 23/23 [00:10<00:00,  2.27it/s, Epoch=12, Avg. loss=0.301231, F1 score=0.917572]\n",
      "100%|██████████| 23/23 [00:10<00:00,  2.21it/s, Epoch=13, Avg. loss=0.225894, F1 score=0.934783]\n"
     ]
    },
    {
     "name": "stdout",
     "output_type": "stream",
     "text": [
      "Best acc: 88.46153846153847\n"
     ]
    },
    {
     "name": "stderr",
     "output_type": "stream",
     "text": [
      "100%|██████████| 23/23 [00:10<00:00,  2.28it/s, Epoch=14, Avg. loss=0.203226, F1 score=0.949275]\n"
     ]
    },
    {
     "name": "stdout",
     "output_type": "stream",
     "text": [
      "Best acc: 91.02564102564102\n"
     ]
    },
    {
     "name": "stderr",
     "output_type": "stream",
     "text": [
      "100%|██████████| 23/23 [00:09<00:00,  2.42it/s, Epoch=15, Avg. loss=0.121715, F1 score=0.975543]\n",
      "100%|██████████| 23/23 [00:09<00:00,  2.42it/s, Epoch=16, Avg. loss=0.086571, F1 score=0.973732]\n",
      "100%|██████████| 23/23 [00:09<00:00,  2.38it/s, Epoch=17, Avg. loss=0.087135, F1 score=0.980978]\n",
      "100%|██████████| 23/23 [00:09<00:00,  2.39it/s, Epoch=18, Avg. loss=0.046445, F1 score=0.997283]\n"
     ]
    },
    {
     "name": "stdout",
     "output_type": "stream",
     "text": [
      "Best acc: 92.3076923076923\n"
     ]
    },
    {
     "name": "stderr",
     "output_type": "stream",
     "text": [
      "100%|██████████| 23/23 [00:09<00:00,  2.40it/s, Epoch=19, Avg. loss=0.044040, F1 score=0.994565]\n"
     ]
    },
    {
     "name": "stdout",
     "output_type": "stream",
     "text": [
      "Best acc: 96.15384615384616\n"
     ]
    },
    {
     "name": "stderr",
     "output_type": "stream",
     "text": [
      "100%|██████████| 23/23 [00:09<00:00,  2.37it/s, Epoch=20, Avg. loss=0.028145, F1 score=1.000000]\n"
     ]
    }
   ],
   "source": [
    "import torch.optim as optim\n",
    "import copy\n",
    "from torchmetrics.classification import F1Score\n",
    "\n",
    "# Here some hyperparameters\n",
    "epochs = 20\n",
    "lr = 1e-3\n",
    "momentum = 0.9\n",
    "\n",
    "criterion = nn.CrossEntropyLoss()\n",
    "score = F1Score(task=\"multiclass\", num_classes=26).to(device)\n",
    "optimizer = optim.SGD(model.parameters(), lr=lr, momentum=momentum)\n",
    "scheduler = optim.lr_scheduler.ReduceLROnPlateau(optimizer, 'min', factor=0.3, patience=3, verbose=True)\n",
    "\n",
    "best_model_wts = copy.deepcopy(model.state_dict())\n",
    "best_acc = 0.0\n",
    "\n",
    "# And here is where the training process starts \n",
    "for epoch in range(1, epochs + 1):\n",
    "    # Train the model\n",
    "    train_loss = train(model, device, train_loader, criterion, score, optimizer, epoch)\n",
    "    # Change the learning rate depending on the training loss got\n",
    "    scheduler.step(train_loss)\n",
    "\n",
    "    # Evaluate the test loss and accuracy\n",
    "    test_loss, test_acc = test(model, device, test_loader, criterion, score)\n",
    "\n",
    "    # Deep copy the model if its score is better than the current best model\n",
    "    if test_acc > best_acc:\n",
    "        best_acc = test_acc\n",
    "        best_model_wts = copy.deepcopy(model.state_dict())\n",
    "        print(\"Best acc:\", best_acc)"
   ]
  },
  {
   "cell_type": "markdown",
   "metadata": {},
   "source": [
    "### `Saving best model's state`"
   ]
  },
  {
   "cell_type": "code",
   "execution_count": null,
   "metadata": {},
   "outputs": [],
   "source": [
    "# Creating \"/runs\" directory for storing states of the models that are trained\n",
    "path = \"runs\"\n",
    "if not os.path.exists(path):\n",
    "    os.makedirs(path)\n",
    "  \n",
    "model.load_state_dict(best_model_wts)    \n",
    "torch.save(model.state_dict(), \"./runs/Alex_Like.pt\")"
   ]
  },
  {
   "cell_type": "markdown",
   "metadata": {},
   "source": [
    "<table>\n",
    "<tr><td>\n",
    "\n",
    "| Class_num   |      Class_name      |\n",
    "|-------------|----------------------|\n",
    "|      1      |         rtro         |\n",
    "|      2      |         ruro         |\n",
    "|      3      |         rfro         |\n",
    "|      4      |         rtrs         |\n",
    "|      5      |         rurs         |\n",
    "|      6      |         rfrs         |\n",
    "|      7      |         ltro         |\n",
    "|      8      |         luro         |\n",
    "|      9      |         lfro         |\n",
    "|      10     |         ltrs         |\n",
    "|      11     |         lurs         |\n",
    "|      12     |         lfrs         |\n",
    "\n",
    "</td><td>\n",
    "\n",
    "| Class_num   |      Class_name      |\n",
    "|-------------|----------------------|\n",
    "|      13      |         rts         |\n",
    "|      14      |         rus         |\n",
    "|      15      |         rfs         |\n",
    "|      16      |         lts         |\n",
    "|      17      |         lus         |\n",
    "|      18      |         lfs         |\n",
    "|      19      |         rta         |\n",
    "|      20      |         rua         |\n",
    "|      21      |         rfa         |\n",
    "|      22      |         lta         |\n",
    "|      23      |         lua         |\n",
    "|      24      |         lfa         |\n",
    "\n",
    "</td><td>\n",
    "\n",
    "| Class_num   |      Class_name      |\n",
    "|-------------|----------------------|\n",
    "|      25     |         ct          |\n",
    "|      26     |         cct         |\n",
    "\n",
    "</td></tr> \n",
    "</table>"
   ]
  },
  {
   "cell_type": "markdown",
   "metadata": {},
   "source": [
    "### `Loading the state for the model and predicting classes for the images from \"dataset/show\" directory`"
   ]
  },
  {
   "cell_type": "code",
   "execution_count": 22,
   "metadata": {},
   "outputs": [
    {
     "data": {
      "image/png": "[encoded data removed]",
      "text/plain": [
       "<Figure size 1000x1000 with 3 Axes>"
      ]
     },
     "metadata": {},
     "output_type": "display_data"
    }
   ],
   "source": [
    "model = Alex_like(num_classes=26).to(device)\n",
    "# model = ResNet(num_classes=26).to(device)\n",
    "\n",
    "model.load_state_dict(torch.load('./runs/Alex_Like.pt'))\n",
    "# model.load_state_dict(torch.load('./runs/ResNet34.pt'))\n",
    "\n",
    "show_dir = 'dataset/show/'\n",
    "show_images = os.listdir(show_dir)\n",
    "\n",
    "image_num = 1\n",
    "fig = plt.figure(figsize=(10, 10))\n",
    "\n",
    "for image_name in show_images:\n",
    "    # Preprocessign the image\n",
    "    image = cv2.imread(show_dir + image_name, cv2.IMREAD_GRAYSCALE)\n",
    "    image = image[228:855, 64:1856]\n",
    "    \n",
    "    image = Image.fromarray(image)\n",
    "    image = test_transforms(image)\n",
    "    image = F.adjust_sharpness(image, 4.5)\n",
    "\n",
    "    image = image.numpy()[np.newaxis, :, :, :]\n",
    "\n",
    "    image = torch.tensor(image).to(device)\n",
    "    \n",
    "    # Making a prediction\n",
    "    model.eval()\n",
    "    with torch.no_grad():\n",
    "        pred_class = model(image).argmax(dim=1, keepdim=True) + 1\n",
    "\n",
    "    # Adding the image with predicted class in a subplot\n",
    "    fig.add_subplot(len(show_images) // 4 + 1, 4, image_num)\n",
    "    plt.imshow(image.cpu().numpy()[0, 0, :, :], cmap=\"gray\")\n",
    "    plt.axis('off')\n",
    "    plt.title(pred_class.item())\n",
    "    \n",
    "    image_num += 1\n",
    "\n",
    "# Showing all the images with predicted classes\n",
    "plt.show()\n",
    "\n",
    "# Cleaning the memory\n",
    "if(use_cuda):\n",
    "    torch.cuda.empty_cache()\n",
    "del model"
   ]
  }
 ],
 "metadata": {
  "kernelspec": {
   "display_name": "Torch",
   "language": "python",
   "name": "python3"
  },
  "language_info": {
   "codemirror_mode": {
    "name": "ipython",
    "version": 3
   },
   "file_extension": ".py",
   "mimetype": "text/x-python",
   "name": "python",
   "nbconvert_exporter": "python",
   "pygments_lexer": "ipython3",
   "version": "3.9.18"
  },
  "orig_nbformat": 4
 },
 "nbformat": 4,
 "nbformat_minor": 2
}
